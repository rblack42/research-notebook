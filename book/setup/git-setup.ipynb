{
 "cells": [
  {
   "cell_type": "markdown",
   "id": "32c50574",
   "metadata": {},
   "source": [
    "# Git Setup"
   ]
  },
  {
   "cell_type": "markdown",
   "id": "d7363e03",
   "metadata": {},
   "source": [
    "## GitHub Authentication"
   ]
  },
  {
   "cell_type": "markdown",
   "id": "cee90d53",
   "metadata": {},
   "source": [
    "When you want to interact with *GitHub* from the command line you need to authenticate with the server before commands will be run.  *GitHub* used to allow logging in using a user name and password, but not\n",
    "any more!. You need to create an *Access Token* and save it in an environment\n",
    "variable.You create this token using their web interface. \n",
    "\n",
    "The simple way to gain access is to install the GitHub command line client **gh**. \n",
    "\n",
    "Create an environent variable will this token by adding a line in **.zshrc**. Here is how y line is set up (without the real key, of course).\n",
    "\n",
    "```bash\n",
    "export GITHUB_ACCESS_TOKEN=xxx-xxxxxxxxxxxxxxx\n",
    "```\n",
    "\n",
    "Once this is set up a new shell will have that variable configured. Now running this command will set up automatic authentication:\n",
    "\n",
    "```bash\n",
    "$ gh auth login\n",
    "```\n",
    "\n",
    "You will see a line providing a one-time access code. After you press **Enter** a web browser will open asking for that code. Enter it and you will be all set. From that point, normal git commands that interact with the server run with no password needed!\n",
    " "
   ]
  }
 ],
 "metadata": {
  "kernelspec": {
   "display_name": "Python 3 (ipykernel)",
   "language": "python",
   "name": "python3"
  },
  "language_info": {
   "codemirror_mode": {
    "name": "ipython",
    "version": 3
   },
   "file_extension": ".py",
   "mimetype": "text/x-python",
   "name": "python",
   "nbconvert_exporter": "python",
   "pygments_lexer": "ipython3",
   "version": "3.10.2"
  },
  "toc": {
   "base_numbering": 1,
   "nav_menu": {},
   "number_sections": true,
   "sideBar": true,
   "skip_h1_title": false,
   "title_cell": "Table of Contents",
   "title_sidebar": "Contents",
   "toc_cell": false,
   "toc_position": {},
   "toc_section_display": true,
   "toc_window_display": false
  },
  "varInspector": {
   "cols": {
    "lenName": 16,
    "lenType": 16,
    "lenVar": 40
   },
   "kernels_config": {
    "python": {
     "delete_cmd_postfix": "",
     "delete_cmd_prefix": "del ",
     "library": "var_list.py",
     "varRefreshCmd": "print(var_dic_list())"
    },
    "r": {
     "delete_cmd_postfix": ") ",
     "delete_cmd_prefix": "rm(",
     "library": "var_list.r",
     "varRefreshCmd": "cat(var_dic_list()) "
    }
   },
   "types_to_exclude": [
    "module",
    "function",
    "builtin_function_or_method",
    "instance",
    "_Feature"
   ],
   "window_display": false
  }
 },
 "nbformat": 4,
 "nbformat_minor": 5
}
