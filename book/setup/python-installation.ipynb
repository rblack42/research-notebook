{
 "cells": [
  {
   "cell_type": "markdown",
   "id": "d7745cef",
   "metadata": {},
   "source": [
    "# Python Installation"
   ]
  },
  {
   "cell_type": "markdown",
   "id": "a333ff01",
   "metadata": {},
   "source": [
    "In this section we will work through the basic installation of Python on your system. I will provide instructions for all three major systems:\n",
    "\n",
    "- MacOS\n",
    "- Windows 10\n",
    "- Ubuntu Linux\n",
    "\n",
    "(Yes, there are other/newer operating systems out there, but this should handle most users. It also represents the set of machines I use for testing my code.\n",
    "\n",
    "Since I do all of my development work on a Macbook laptop, I will begin with instructions for that system"
   ]
  },
  {
   "cell_type": "markdown",
   "id": "9aadcdb8",
   "metadata": {},
   "source": [
    "## Mac Install"
   ]
  },
  {
   "cell_type": "markdown",
   "id": "8fb263a1",
   "metadata": {},
   "source": [
    "You can download the standard *Python* installer from the [project website](https://python.org), or use the following, more useful, setup procedure.\n",
    "\n",
    "### Installing Homebrew\n",
    "\n",
    "If you own a Mac and plan to use it for development work, I highly recommend that you install [Homebrew](https://brew.sh/), a tool the can install many of the tools developers depend on in their work. Installation involves running this command:\n",
    "\n",
    "### Homebrew Basics\n",
    "\n",
    "*Homebrew* is a command line tool. I will show examples by running commands on my system. In a *Jupyter* code block, you can run any command by preceding it with an exclamation point. The output will be displayed right below the command.\n",
    "\n",
    "Here are the basic commands you need to know for now:"
   ]
  },
  {
   "cell_type": "markdown",
   "id": "76c65e88",
   "metadata": {},
   "source": [
    "#### Check the Homebrew is installed"
   ]
  },
  {
   "cell_type": "code",
   "execution_count": 4,
   "id": "404ed842",
   "metadata": {},
   "outputs": [
    {
     "name": "stdout",
     "output_type": "stream",
     "text": [
      "Homebrew 3.3.16\n",
      "Homebrew/homebrew-core (git revision 5777876f836; last commit 2022-02-25)\n",
      "Homebrew/homebrew-cask (git revision 5741a8103d; last commit 2022-02-25)\n"
     ]
    }
   ],
   "source": [
    "!brew --version"
   ]
  },
  {
   "cell_type": "markdown",
   "id": "c0593a80",
   "metadata": {},
   "source": [
    "#### Check the Homebrew is properly configured"
   ]
  },
  {
   "cell_type": "code",
   "execution_count": 5,
   "id": "0c67dbee",
   "metadata": {},
   "outputs": [
    {
     "name": "stdout",
     "output_type": "stream",
     "text": [
      "Your system is ready to brew.\r\n"
     ]
    }
   ],
   "source": [
    "! brew doctor"
   ]
  },
  {
   "cell_type": "markdown",
   "id": "a526f5a6",
   "metadata": {},
   "source": [
    "```bash\n",
    "$/bin/bash -c \"$(curl -fsSL https://raw.githubusercontent.com/Homebrew/install/HEAD/install.sh)\"\n",
    "```\n",
    "\n",
    "(Note that the dollar sign is the command prompt on Linix/Mac)"
   ]
  },
  {
   "cell_type": "markdown",
   "id": "bc630246",
   "metadata": {},
   "source": [
    "#### Find a tool to install"
   ]
  },
  {
   "cell_type": "code",
   "execution_count": 7,
   "id": "14d38597",
   "metadata": {},
   "outputs": [
    {
     "name": "stdout",
     "output_type": "stream",
     "text": [
      "\u001b[34m==>\u001b[0m \u001b[1mFormulae\u001b[0m\r\n",
      "boost-python3   python@3.7      \u001b[1mpython@3.9 \u001b[32m✔\u001b[0m\u001b[0m    bpython         cython\r\n",
      "\u001b[1mpython@3.10 \u001b[32m✔\u001b[0m\u001b[0m   python@3.8      ipython         jython\r\n",
      "\r\n",
      "If you meant \"python3\" specifically:\r\n",
      "It was migrated from homebrew/cask to homebrew/core.\r\n"
     ]
    }
   ],
   "source": [
    "!brew search python3"
   ]
  },
  {
   "cell_type": "markdown",
   "id": "3561095b",
   "metadata": {},
   "source": [
    "The check marks after two entries indicate that those tools have already been installed on your system. Developers like t run their code on multiple versions of Python in case their users are not running the most up-to-date versions.\n",
    "\n",
    "If you want a specific version you will name that version as shown in this list. Otherwise *Homebrew* will chose the latest version automatically."
   ]
  },
  {
   "cell_type": "markdown",
   "id": "93e85d81",
   "metadata": {},
   "source": [
    "### Installing Python"
   ]
  },
  {
   "cell_type": "code",
   "execution_count": 6,
   "id": "9a8af32e",
   "metadata": {},
   "outputs": [
    {
     "name": "stdout",
     "output_type": "stream",
     "text": [
      "Running `brew update --preinstall`...\n",
      "\u001b[34m==>\u001b[0m \u001b[1mAuto-updated Homebrew!\u001b[0m\n",
      "Updated 2 taps (homebrew/core and homebrew/cask).\n",
      "\u001b[34m==>\u001b[0m \u001b[1mUpdated Formulae\u001b[0m\n",
      "Updated 32 formulae.\n",
      "\u001b[34m==>\u001b[0m \u001b[1mUpdated Casks\u001b[0m\n",
      "Updated 36 casks.\n",
      "\n",
      "\u001b[34m==>\u001b[0m \u001b[1mDownloading https://ghcr.io/v2/homebrew/core/python/3.9/manifests/3.9.10\u001b[0m\n",
      "######################################################################## 100.0%\n",
      "\u001b[34m==>\u001b[0m \u001b[1mDownloading https://ghcr.io/v2/homebrew/core/python/3.9/blobs/sha256:be3b63b\u001b[0m\n",
      "\u001b[34m==>\u001b[0m \u001b[1mDownloading from https://pkg-containers.githubusercontent.com/ghcr1/blobs/sh\u001b[0m\n",
      "######################################################################## 100.0%\n",
      "\u001b[34m==>\u001b[0m \u001b[1mPouring python@3.9--3.9.10.monterey.bottle.tar.gz\u001b[0m\n",
      "Unlinking /usr/local/Cellar/python@3.10/3.10.2... 24 symlinks removed.\n",
      "\u001b[34m==>\u001b[0m \u001b[1m/usr/local/Cellar/python@3.9/3.9.10/bin/python3 -m ensurepip\u001b[0m\n",
      "\u001b[34m==>\u001b[0m \u001b[1m/usr/local/Cellar/python@3.9/3.9.10/bin/python3 -m pip install -v --no-deps \u001b[0m\n",
      "\u001b[34m==>\u001b[0m \u001b[1mCaveats\u001b[0m\n",
      "Python has been installed as\n",
      "  /usr/local/bin/python3\n",
      "\n",
      "Unversioned symlinks `python`, `python-config`, `pip` etc. pointing to\n",
      "`python3`, `python3-config`, `pip3` etc., respectively, have been installed into\n",
      "  /usr/local/opt/python@3.9/libexec/bin\n",
      "\n",
      "You can install Python packages with\n",
      "  pip3 install <package>\n",
      "They will install into the site-package directory\n",
      "  /usr/local/lib/python3.9/site-packages\n",
      "\n",
      "tkinter is no longer included with this formula, but it is available separately:\n",
      "  brew install python-tk@3.9\n",
      "\n",
      "See: https://docs.brew.sh/Homebrew-and-Python\n",
      "\u001b[34m==>\u001b[0m \u001b[1mSummary\u001b[0m\n",
      "🍺  /usr/local/Cellar/python@3.9/3.9.10: 3,080 files, 54.9MB\n",
      "\u001b[34m==>\u001b[0m \u001b[1mRunning `brew cleanup python@3.9`...\u001b[0m\n",
      "Disable this behaviour by setting HOMEBREW_NO_INSTALL_CLEANUP.\n",
      "Hide these hints with HOMEBREW_NO_ENV_HINTS (see `man brew`).\n"
     ]
    }
   ],
   "source": [
    "! brew install python3"
   ]
  },
  {
   "cell_type": "markdown",
   "id": "7eadf073",
   "metadata": {},
   "source": [
    "That is a lot of output considering Python was already installed on my system. Ignoring most of this output, the command installed Python version 3.10.2 which was the most current version available as I wrote this page."
   ]
  },
  {
   "cell_type": "markdown",
   "id": "84688b39",
   "metadata": {},
   "source": [
    "## Python Virtual Environments"
   ]
  },
  {
   "cell_type": "markdown",
   "id": "7d66bcea",
   "metadata": {},
   "source": [
    "You may have notices some *version numbers* on things like Python above. Versions are major points in the development of a program, so they are pretty important. Programs are *released* to users and marked with a version number. These numbers are usually in the form of up to three parts with a dot between them:\n",
    "\n",
    "- major - the left-most number. Everything might be different from a previous major version\n",
    "- minor - the second part. Here the user interface is th same, but new features have been added\n",
    "- patch - (might not exist) these changes are bug fixes only\n",
    "\n",
    "All of this is fine, except for on huge problem!\n",
    "\n",
    "A program might use tools written by another developers. That program *depends* on the version of those tools that were available when the developer was working. As time goes by, the tool developers may enhance or change their tools. The first developer now has a problem. The program may stop working until it can be updated. \n",
    "\n",
    "This whole problem leads to many sleepless nights, but in the *Python* world there is a solution.\n",
    "\n",
    "### Virtual Environments\n",
    "\n",
    "A *virtual environment* is an isolated world where all *dependencies* can be managed. Python has supported this schee for any years, and is quite common for developers to set this system up for each proect they work on. I will show how I create this setup on my Mac, and show optional ways to do the same thing on Windows and Linux. Unfortunately, The same scheme cannot be used on every machine at present.\n",
    "\n",
    "#### direnv\n",
    "\n",
    "The [direnv](https://direnv.net/) program can manage Python proects in a simple way. Once set up, any time you navigate into a project folder your environment will be activated and you are ready to work.\n",
    "\n",
    "Here is how we install this tool:\n",
    "\n"
   ]
  },
  {
   "cell_type": "code",
   "execution_count": 8,
   "id": "2b4b1316",
   "metadata": {},
   "outputs": [
    {
     "name": "stdout",
     "output_type": "stream",
     "text": [
      "\u001b[33mWarning:\u001b[0m direnv 2.30.3 is already installed and up-to-date.\r\n",
      "To reinstall 2.30.3, run:\r\n",
      "  brew reinstall direnv\r\n"
     ]
    }
   ],
   "source": [
    "!brew install direnv"
   ]
  },
  {
   "cell_type": "markdown",
   "id": "3a23f1cd",
   "metadata": {},
   "source": [
    "Once this program has been installed, you need to tell your machine to use it. On the Mac, this involces adding a line in the **.zshrc** file in your home directory> Here is the line in my file:\n",
    "\n",
    "```bash\n",
    "eval \"$(direnv hook zsh)\"\n",
    "```\n",
    "\n",
    "Once this line is in place, any new terminal session will be able ot use the **firenv** created environments.\n",
    "\n",
    "#### Creating a New Environment\n",
    "\n",
    "Creating a new environment is a two step process:\n",
    "\n",
    "```bash\n",
    "$ echo 'layout python3' > .envrc\n",
    "$ direnv allow\n",
    "```\n",
    "\n",
    "The first line just creates a text file named **.envrc** in the project directory. (This should be at the root of your project directory tree). The second line actually creates a new hidden directory named **.direnv** in that same directory. A complete copy of a basic Python installation will be copied into this directory and used every time you navigate into a proect directory. You should make sure **git** does not copy this directory to *GitHub* by adding an entry in the **.gitignore** gile. (See [Git Setup](./git-setup.ipynb) for more information"
   ]
  },
  {
   "cell_type": "code",
   "execution_count": null,
   "id": "6b096159",
   "metadata": {},
   "outputs": [],
   "source": []
  }
 ],
 "metadata": {
  "kernelspec": {
   "display_name": "Python 3 (ipykernel)",
   "language": "python",
   "name": "python3"
  },
  "language_info": {
   "codemirror_mode": {
    "name": "ipython",
    "version": 3
   },
   "file_extension": ".py",
   "mimetype": "text/x-python",
   "name": "python",
   "nbconvert_exporter": "python",
   "pygments_lexer": "ipython3",
   "version": "3.10.2"
  },
  "toc": {
   "base_numbering": 1,
   "nav_menu": {},
   "number_sections": true,
   "sideBar": true,
   "skip_h1_title": false,
   "title_cell": "Table of Contents",
   "title_sidebar": "Contents",
   "toc_cell": false,
   "toc_position": {},
   "toc_section_display": true,
   "toc_window_display": false
  },
  "varInspector": {
   "cols": {
    "lenName": 16,
    "lenType": 16,
    "lenVar": 40
   },
   "kernels_config": {
    "python": {
     "delete_cmd_postfix": "",
     "delete_cmd_prefix": "del ",
     "library": "var_list.py",
     "varRefreshCmd": "print(var_dic_list())"
    },
    "r": {
     "delete_cmd_postfix": ") ",
     "delete_cmd_prefix": "rm(",
     "library": "var_list.r",
     "varRefreshCmd": "cat(var_dic_list()) "
    }
   },
   "types_to_exclude": [
    "module",
    "function",
    "builtin_function_or_method",
    "instance",
    "_Feature"
   ],
   "window_display": false
  }
 },
 "nbformat": 4,
 "nbformat_minor": 5
}
