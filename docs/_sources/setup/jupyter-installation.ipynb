{
 "cells": [
  {
   "cell_type": "markdown",
   "id": "ff775ec0",
   "metadata": {},
   "source": [
    "# Jupyter Installation"
   ]
  },
  {
   "cell_type": "markdown",
   "id": "5168fa6b",
   "metadata": {},
   "source": [
    "## Basic Setup\n",
    "\n",
    "Installing Jupyter us easy, assuming you have Python up and running. You can add this lines to your **requirements.in** file:\n",
    "\n",
    "jupyter-book\n",
    "\n",
    " or just run this command:\n",
    " \n",
    "pip install jupyter-book\n",
    "\n",
    "I am installing *Jupyter-Book* and not just *Jupyter* since this tool provides a way to manage a collection of Jupyter pages, and turn them into a book-like static html pages that can be loaded onto a website. One of the great features of GitHub is that it will publish such web pafes for free as long as you project is public."
   ]
  },
  {
   "cell_type": "markdown",
   "id": "113b5eda",
   "metadata": {},
   "source": [
    "## Adding Extensions\n",
    "\n",
    "Jupyter has been around long enough for developers to add a number of features that enhance your writing experience. The basic Jupyter system provides a nice way for developers to add capabilities by writing an *extension* of the system. \n",
    "\n",
    "Many such extensions have been added to a library of tools that can be installed by running two commands:\n",
    "\n",
    "pip install pip"
   ]
  }
 ],
 "metadata": {
  "kernelspec": {
   "display_name": "Python 3 (ipykernel)",
   "language": "python",
   "name": "python3"
  },
  "language_info": {
   "codemirror_mode": {
    "name": "ipython",
    "version": 3
   },
   "file_extension": ".py",
   "mimetype": "text/x-python",
   "name": "python",
   "nbconvert_exporter": "python",
   "pygments_lexer": "ipython3",
   "version": "3.10.2"
  },
  "toc": {
   "base_numbering": 1,
   "nav_menu": {},
   "number_sections": true,
   "sideBar": true,
   "skip_h1_title": false,
   "title_cell": "Table of Contents",
   "title_sidebar": "Contents",
   "toc_cell": false,
   "toc_position": {},
   "toc_section_display": true,
   "toc_window_display": false
  },
  "varInspector": {
   "cols": {
    "lenName": 16,
    "lenType": 16,
    "lenVar": 40
   },
   "kernels_config": {
    "python": {
     "delete_cmd_postfix": "",
     "delete_cmd_prefix": "del ",
     "library": "var_list.py",
     "varRefreshCmd": "print(var_dic_list())"
    },
    "r": {
     "delete_cmd_postfix": ") ",
     "delete_cmd_prefix": "rm(",
     "library": "var_list.r",
     "varRefreshCmd": "cat(var_dic_list()) "
    }
   },
   "types_to_exclude": [
    "module",
    "function",
    "builtin_function_or_method",
    "instance",
    "_Feature"
   ],
   "window_display": false
  }
 },
 "nbformat": 4,
 "nbformat_minor": 5
}
